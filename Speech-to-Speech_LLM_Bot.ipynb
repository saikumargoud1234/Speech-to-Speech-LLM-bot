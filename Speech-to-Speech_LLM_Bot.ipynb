{
 "cells": [
  {
   "cell_type": "code",
   "execution_count": null,
   "id": "48693856-112f-4b7e-8918-6d540eecb51f",
   "metadata": {},
   "outputs": [],
   "source": [
    "import speech_recognition as sr\n",
    "import cohere\n",
    "import pyttsx3\n",
    "\n",
    "# Instantiate Cohere client with API Key\n",
    "api_key = 'EyDbyGG26i4ihK0ph4WcV7CHVnNx11anUdawsi4E'\n",
    "cohere_client = cohere.Client(api_key)\n",
    "\n",
    "# Initialize the TTS engine\n",
    "speech_engine = pyttsx3.init()\n",
    "\n",
    "# Function to capture audio and convert it to text\n",
    "def capture_audio():\n",
    "    recognizer = sr.Recognizer()\n",
    "    mic = sr.Microphone()\n",
    "\n",
    "    with mic as source:\n",
    "        recognizer.adjust_for_ambient_noise(source)  # Adjust for ambient noise\n",
    "        print(\"Ready to receive input...\")\n",
    "        while True:\n",
    "            audio = recognizer.listen(source)\n",
    "            try:\n",
    "                spoken_text = recognizer.recognize_google(audio)\n",
    "                print(f\"Detected speech: {spoken_text}\")\n",
    "                return spoken_text\n",
    "            except sr.UnknownValueError:\n",
    "                print(\"Could not understand the audio. Please try again.\")\n",
    "            except sr.RequestError:\n",
    "                print(\"Service unavailable. Please check your internet connection.\")\n",
    "\n",
    "def formulate_response(user_prompt):\n",
    "    response = cohere_client.generate(\n",
    "        model='command-xlarge-nightly',\n",
    "        prompt=user_prompt,\n",
    "        max_tokens=150,\n",
    "        temperature=0.7\n",
    "    )\n",
    "    reply_text = response.generations[0].text.strip()\n",
    "    print(f\"AI response: {reply_text}\")\n",
    "    return reply_text\n",
    "\n",
    "def vocalize_text(text):\n",
    "    speech_engine.say(text)\n",
    "    speech_engine.runAndWait()\n",
    "\n",
    "def execute_speech_bot():\n",
    "    while True:\n",
    "        user_input = capture_audio()\n",
    "        if user_input.lower() == \"exit\":\n",
    "            print(\"Exiting the program. Have a nice day!\")\n",
    "            break\n",
    "        if user_input:\n",
    "            response_text = formulate_response(user_input)\n",
    "            vocalize_text(response_text)\n",
    "\n",
    "if __name__ == \"__main__\":\n",
    "    execute_speech_bot()"
   ]
  },
  {
   "cell_type": "code",
   "execution_count": null,
   "id": "b779043d-e154-4be5-835c-dbbcb7ceada9",
   "metadata": {},
   "outputs": [],
   "source": []
  }
 ],
 "metadata": {
  "kernelspec": {
   "display_name": "Python 3 (ipykernel)",
   "language": "python",
   "name": "python3"
  },
  "language_info": {
   "codemirror_mode": {
    "name": "ipython",
    "version": 3
   },
   "file_extension": ".py",
   "mimetype": "text/x-python",
   "name": "python",
   "nbconvert_exporter": "python",
   "pygments_lexer": "ipython3",
   "version": "3.12.4"
  }
 },
 "nbformat": 4,
 "nbformat_minor": 5
}
